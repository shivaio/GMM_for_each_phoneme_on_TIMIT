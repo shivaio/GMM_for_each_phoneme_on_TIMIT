{
 "cells": [
  {
   "cell_type": "code",
   "execution_count": 1,
   "metadata": {},
   "outputs": [],
   "source": [
    "import pandas as pd\n",
    "import numpy as np\n",
    "from sklearn import mixture\n",
    "from sklearn.externals import joblib\n",
    "import pickle\n",
    "import gzip"
   ]
  },
  {
   "cell_type": "code",
   "execution_count": 2,
   "metadata": {},
   "outputs": [],
   "source": [
    "df = pd.read_hdf(\"./features/mfcc/train.hdf\")\n",
    "\n",
    "features = np.array(df[\"features\"].tolist())\n",
    "labels = np.array(df[\"labels\"].tolist())"
   ]
  },
  {
   "cell_type": "code",
   "execution_count": 3,
   "metadata": {},
   "outputs": [
    {
     "data": {
      "text/plain": [
       "(1236543, 39)"
      ]
     },
     "execution_count": 3,
     "metadata": {},
     "output_type": "execute_result"
    }
   ],
   "source": [
    "features.shape"
   ]
  },
  {
   "cell_type": "code",
   "execution_count": 4,
   "metadata": {},
   "outputs": [
    {
     "data": {
      "text/plain": [
       "40"
      ]
     },
     "execution_count": 4,
     "metadata": {},
     "output_type": "execute_result"
    }
   ],
   "source": [
    "phoneme = set(labels)\n",
    "len(phoneme)"
   ]
  },
  {
   "cell_type": "code",
   "execution_count": 5,
   "metadata": {},
   "outputs": [],
   "source": [
    "#Step 6 (a)(i)\n",
    "#GMM for MFCC with energy coeff with 64 mixtures for all phonemes\n",
    "for ph in phoneme:\n",
    "    df_ph = np.asarray(df.loc[df[\"labels\"] == ph][\"features\"].tolist())[:,:13]\n",
    "    #print(df_ph.shape)\n",
    "    Y = [ph] * len(df_ph)\n",
    "    gmm = mixture.GaussianMixture(n_components=64, covariance_type='diag', max_iter=75 ).fit(df_ph, ph)\n",
    "    pickle.dump(gmm, open('./models/MFCC/064/'+ph+'.pkl', 'wb'))\n",
    "    "
   ]
  },
  {
   "cell_type": "code",
   "execution_count": 6,
   "metadata": {},
   "outputs": [],
   "source": [
    "#Step 6 (a)(ii)\n",
    "#GMM for MFCC without energy coeff with 64 mixtures for all phonemes\n",
    "for ph in phoneme:\n",
    "    df_ph = np.asarray(df.loc[df[\"labels\"] == ph][\"features\"].tolist())[:,1:13]\n",
    "    #print(df_ph.shape)\n",
    "    gmm = mixture.GaussianMixture(n_components=64, covariance_type='diag', max_iter=75 ).fit(df_ph, ph)\n",
    "    pickle.dump(gmm, open('./models/MFCC_wo_energy_coeff/064/'+ph+'.pkl', 'wb'))\n",
    "    "
   ]
  },
  {
   "cell_type": "code",
   "execution_count": 7,
   "metadata": {},
   "outputs": [],
   "source": [
    "#Step 6 (b)(i)\n",
    "#GMM for MFCC_delta with energy coeff with 64 mixtures for all phonemes\n",
    "for ph in phoneme:\n",
    "    df_ph = np.asarray(df.loc[df[\"labels\"] == ph][\"features\"].tolist())[:,13:26]\n",
    "    #print(df_ph.shape)\n",
    "    gmm = mixture.GaussianMixture(n_components=64, covariance_type='diag', max_iter=75 ).fit(df_ph, ph)\n",
    "    pickle.dump(gmm, open('./models/MFCC_delta/064/'+ph+'.pkl', 'wb'))\n",
    "    "
   ]
  },
  {
   "cell_type": "code",
   "execution_count": 8,
   "metadata": {},
   "outputs": [],
   "source": [
    "#Step 6 (b)(ii)\n",
    "#GMM for MFCC_delta without energy coeff with 64 mixtures for all phonemes\n",
    "for ph in phoneme:\n",
    "    df_ph = np.asarray(df.loc[df[\"labels\"] == ph][\"features\"].tolist())[:,14:26]\n",
    "    #print(df_ph.shape)\n",
    "    gmm = mixture.GaussianMixture(n_components=64, covariance_type='diag', max_iter=75 ).fit(df_ph, ph)\n",
    "    pickle.dump(gmm, open('./models/MFCC_delta_wo_energy_coeff/064/'+ph+'.pkl', 'wb'))\n",
    "    "
   ]
  },
  {
   "cell_type": "code",
   "execution_count": 9,
   "metadata": {},
   "outputs": [],
   "source": [
    "#Step 6 (c)(i)\n",
    "#GMM for MFCC_delta_delta with energy coeff with 64 mixtures for all phonemes\n",
    "for ph in phoneme:\n",
    "    df_ph = np.asarray(df.loc[df[\"labels\"] == ph][\"features\"].tolist())[:,26:]\n",
    "    #print(df_ph.shape)\n",
    "    gmm = mixture.GaussianMixture(n_components=64, covariance_type='diag', max_iter=75 ).fit(df_ph, ph)\n",
    "    pickle.dump(gmm, open('./models/MFCC_delta_delta/064/'+ph+'.pkl', 'wb'))\n",
    "    "
   ]
  },
  {
   "cell_type": "code",
   "execution_count": 10,
   "metadata": {},
   "outputs": [],
   "source": [
    "#Step 6 (c)(ii)\n",
    "#GMM for MFCC_delta_delta without energy coeff with 64 mixtures for all phonemes\n",
    "for ph in phoneme:\n",
    "    df_ph = np.asarray(df.loc[df[\"labels\"] == ph][\"features\"].tolist())[:,27:]\n",
    "    #print(df_ph.shape)\n",
    "    gmm = mixture.GaussianMixture(n_components=64, covariance_type='diag', max_iter=75 ).fit(df_ph, ph)\n",
    "    pickle.dump(gmm, open('./models/MFCC_delta_delta_wo_energy_coeff/064/'+ph+'.pkl', 'wb'))\n",
    "    "
   ]
  },
  {
   "cell_type": "code",
   "execution_count": 11,
   "metadata": {},
   "outputs": [],
   "source": [
    "#Step 7\n",
    "#GMM for MFCC without energy coeff with 2, 4, 8, 16, 32, 128, 256 mixtures for all phonemes\n",
    "for ph in phoneme:\n",
    "    df_ph = np.asarray(df.loc[df[\"labels\"] == ph][\"features\"].tolist())[:,1:13]\n",
    "    #print(df_ph.shape)\n",
    "    gmm = mixture.GaussianMixture(n_components=2, covariance_type='diag', max_iter=75 ).fit(df_ph, ph)\n",
    "    pickle.dump(gmm, open('./models/MFCC_wo_energy_coeff/002/'+ph+'.pkl', 'wb'))\n",
    "    \n",
    "    gmm = mixture.GaussianMixture(n_components=4, covariance_type='diag', max_iter=75 ).fit(df_ph, ph)\n",
    "    pickle.dump(gmm, open('./models/MFCC_wo_energy_coeff/004/'+ph+'.pkl', 'wb'))\n",
    "    \n",
    "    gmm = mixture.GaussianMixture(n_components=8, covariance_type='diag', max_iter=75 ).fit(df_ph, ph)\n",
    "    pickle.dump(gmm, open('./models/MFCC_wo_energy_coeff/008/'+ph+'.pkl', 'wb'))\n",
    "    \n",
    "    gmm = mixture.GaussianMixture(n_components=16, covariance_type='diag', max_iter=75 ).fit(df_ph, ph)\n",
    "    pickle.dump(gmm, open('./models/MFCC_wo_energy_coeff/016/'+ph+'.pkl', 'wb'))\n",
    "    \n",
    "    gmm = mixture.GaussianMixture(n_components=32, covariance_type='diag', max_iter=75 ).fit(df_ph, ph)\n",
    "    pickle.dump(gmm, open('./models/MFCC_wo_energy_coeff/032/'+ph+'.pkl', 'wb'))\n",
    "    \n",
    "    gmm = mixture.GaussianMixture(n_components=128, covariance_type='diag', max_iter=75 ).fit(df_ph, ph)\n",
    "    pickle.dump(gmm, open('./models/MFCC_wo_energy_coeff/128/'+ph+'.pkl', 'wb'))\n",
    "    \n",
    "    gmm = mixture.GaussianMixture(n_components=256, covariance_type='diag', max_iter=75 ).fit(df_ph, ph)\n",
    "    pickle.dump(gmm, open('./models/MFCC_wo_energy_coeff/256/'+ph+'.pkl', 'wb')) "
   ]
  }
 ],
 "metadata": {
  "kernelspec": {
   "display_name": "Python 3",
   "language": "python",
   "name": "python3"
  },
  "language_info": {
   "codemirror_mode": {
    "name": "ipython",
    "version": 3
   },
   "file_extension": ".py",
   "mimetype": "text/x-python",
   "name": "python",
   "nbconvert_exporter": "python",
   "pygments_lexer": "ipython3",
   "version": "3.10.4"
  }
 },
 "nbformat": 4,
 "nbformat_minor": 2
}
